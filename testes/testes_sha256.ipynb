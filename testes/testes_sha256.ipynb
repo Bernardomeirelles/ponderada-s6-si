{
  "nbformat": 4,
  "nbformat_minor": 0,
  "metadata": {
    "colab": {
      "provenance": []
    },
    "kernelspec": {
      "name": "python3",
      "display_name": "Python 3"
    },
    "language_info": {
      "name": "python"
    }
  },
  "cells": [
    {
      "cell_type": "markdown",
      "source": [
        "## Importação das Bibliotecas escolhidas"
      ],
      "metadata": {
        "id": "VJcfqxA1UXoZ"
      }
    },
    {
      "cell_type": "code",
      "source": [
        "import hashlib"
      ],
      "metadata": {
        "id": "ITUdgO7nUmEX"
      },
      "execution_count": null,
      "outputs": []
    },
    {
      "cell_type": "markdown",
      "source": [
        "## Função de Encriptação"
      ],
      "metadata": {
        "id": "VYEb3z_vVl8x"
      }
    },
    {
      "cell_type": "code",
      "source": [
        "def calcular_hash_sha256(texto: str) -> str:\n",
        "    hash_obj = hashlib.sha256()\n",
        "    hash_obj.update(texto.encode('utf-8'))\n",
        "\n",
        "    return hash_obj.hexdigest()"
      ],
      "metadata": {
        "id": "QUEM9KVLVvaR"
      },
      "execution_count": null,
      "outputs": []
    },
    {
      "cell_type": "markdown",
      "source": [
        "### **Teste 01:**  Verificar o hash de uma string curta."
      ],
      "metadata": {
        "id": "vuQrqgOOT3m7"
      }
    },
    {
      "cell_type": "code",
      "execution_count": null,
      "metadata": {
        "colab": {
          "base_uri": "https://localhost:8080/"
        },
        "id": "d910LGa_S9oI",
        "outputId": "0500cdf6-b709-4d15-e3d1-ef2f97a55065"
      },
      "outputs": [
        {
          "output_type": "stream",
          "name": "stdout",
          "text": [
            "Entrada: teste\n",
            "Hash Calculado: 46070d4bf934fb0d4b06d9e2c46e346944e322444900a435d7d9a95e6d7435f5\n",
            "Hash Esperado: 46070d4bf934fb0d4b06d9e2c46e346944e322444900a435d7d9a95e6d7435f5\n",
            "Teste Passou\n"
          ]
        }
      ],
      "source": [
        "entrada_curta = \"teste\"\n",
        "saida_curta = \"46070d4bf934fb0d4b06d9e2c46e346944e322444900a435d7d9a95e6d7435f5\" #calculada com o site: https://emn178.github.io/online-tools/sha256.html\n",
        "\n",
        "saida_calculada_curta = calcular_hash_sha256(entrada_curta)\n",
        "\n",
        "print(f\"Entrada: {entrada_curta}\")\n",
        "print(f\"Hash Calculado: {saida_curta}\")\n",
        "print(f\"Hash Esperado: {saida_curta}\")\n",
        "print(f\"Teste {'Passou' if saida_curta == saida_calculada_curta else 'Falhou'}\")"
      ]
    },
    {
      "cell_type": "markdown",
      "source": [
        "### **Teste 02:** Verificar o hash de uma string longa."
      ],
      "metadata": {
        "id": "s63agdmGXOdZ"
      }
    },
    {
      "cell_type": "code",
      "source": [
        "entrada_longa = \"Lorem ipsum dolor sit amet. Qui dignissimos harum ea sunt doloribus id commodi voluptas et numquam recusandae? In consectetur quidem non dolor voluptates non quia maiores. Et assumenda alias id galisum omnis est quisquam placeat sed autem fugiat. Qui corrupti eveniet qui quibusdam sequi ab quia voluptatem eos saepe cupiditate ab totam provident.\"\n",
        "saida_longa = \"58ee3fd1afb5e7500f579f8980d6f206d2fb703a666863e3155d5c19376e8215\" #calculada com o site: https://emn178.github.io/online-tools/sha256.html\n",
        "\n",
        "saida_calculada_longa = calcular_hash_sha256(entrada_longa)\n",
        "\n",
        "print(f\"Entrada: {entrada_longa}\")\n",
        "print(f\"Hash Calculado: {saida_longa}\")\n",
        "print(f\"Hash Esperado: {saida_longa}\")\n",
        "print(f\"Teste {'Passou' if saida_longa == saida_calculada_longa else 'Falhou'}\")"
      ],
      "metadata": {
        "colab": {
          "base_uri": "https://localhost:8080/"
        },
        "id": "Y_0_ST6BVgoN",
        "outputId": "f865b736-3595-4324-cd92-4327a1798bbd"
      },
      "execution_count": null,
      "outputs": [
        {
          "output_type": "stream",
          "name": "stdout",
          "text": [
            "Entrada: Lorem ipsum dolor sit amet. Qui dignissimos harum ea sunt doloribus id commodi voluptas et numquam recusandae? In consectetur quidem non dolor voluptates non quia maiores. Et assumenda alias id galisum omnis est quisquam placeat sed autem fugiat. Qui corrupti eveniet qui quibusdam sequi ab quia voluptatem eos saepe cupiditate ab totam provident.\n",
            "Hash Calculado: 58ee3fd1afb5e7500f579f8980d6f206d2fb703a666863e3155d5c19376e8215\n",
            "Hash Esperado: 58ee3fd1afb5e7500f579f8980d6f206d2fb703a666863e3155d5c19376e8215\n",
            "Teste Passou\n"
          ]
        }
      ]
    },
    {
      "cell_type": "markdown",
      "source": [
        "### **Teste 03:** Funcionamento da *lib* com milhares de dados binários"
      ],
      "metadata": {
        "id": "-KPd6_s5XXe1"
      }
    },
    {
      "cell_type": "code",
      "source": [
        "import os\n",
        "\n",
        "def calcular_hash_binario(dados: bytes) -> str:\n",
        "    hash_obj = hashlib.sha256()\n",
        "    hash_obj.update(dados)\n",
        "\n",
        "    return hash_obj.hexdigest()\n",
        "\n",
        "entrada_binaria = os.urandom(1024)  # Gera 1KB de bytes aleatórios\n",
        "saida_calculada_binaria = calcular_hash_binario(entrada_binaria)\n",
        "print(f\"Entrada: 1KB de bytes aleatórios\")\n",
        "print(f\"Hash Calculado: {saida_calculada_binaria}\")"
      ],
      "metadata": {
        "colab": {
          "base_uri": "https://localhost:8080/"
        },
        "id": "b4mnpztGX4cN",
        "outputId": "2b89965d-f4bc-4c84-ca4b-a350b92a4e02"
      },
      "execution_count": null,
      "outputs": [
        {
          "output_type": "stream",
          "name": "stdout",
          "text": [
            "Entrada: 1KB de bytes aleatórios\n",
            "Hash Calculado: 5ff57c669ccfab9a9f760d4339077075c7416cfb2ac91fd79dbf72f8f3837c3a\n"
          ]
        }
      ]
    },
    {
      "cell_type": "markdown",
      "source": [
        "### **Teste 04:** Idempotência do Hash"
      ],
      "metadata": {
        "id": "aneKU-dmZxJW"
      }
    },
    {
      "cell_type": "code",
      "source": [
        "entrada_idempotencia  = \"senha123\"\n",
        "hashes = [calcular_hash_sha256(entrada_idempotencia) for _ in range(5)]\n",
        "print(f\"Entrada: {entrada_idempotencia} repetida 5 vezes\")\n",
        "print(f\"Hashes Gerados: {hashes}\")\n",
        "print(f\"Teste {'Passou' if all(h == hashes[0] for h in hashes) else 'Falhou'}\")\n"
      ],
      "metadata": {
        "colab": {
          "base_uri": "https://localhost:8080/"
        },
        "id": "d-QRHAClZyNk",
        "outputId": "40788349-b5ba-4c67-d409-5f074196ef8b"
      },
      "execution_count": null,
      "outputs": [
        {
          "output_type": "stream",
          "name": "stdout",
          "text": [
            "Entrada: senha123 repetida 5 vezes\n",
            "Hashes Gerados: ['55a5e9e78207b4df8699d60886fa070079463547b095d1a05bc719bb4e6cd251', '55a5e9e78207b4df8699d60886fa070079463547b095d1a05bc719bb4e6cd251', '55a5e9e78207b4df8699d60886fa070079463547b095d1a05bc719bb4e6cd251', '55a5e9e78207b4df8699d60886fa070079463547b095d1a05bc719bb4e6cd251', '55a5e9e78207b4df8699d60886fa070079463547b095d1a05bc719bb4e6cd251']\n",
            "Teste Passou\n"
          ]
        }
      ]
    },
    {
      "cell_type": "markdown",
      "source": [
        "### **Teste 05:** Leitura dos bytes de um arquivo\n",
        "\n",
        "Neste teste, será necessário o upload de um arquivo aleatório da máquina."
      ],
      "metadata": {
        "id": "_3e5V1FMahbA"
      }
    },
    {
      "cell_type": "code",
      "source": [
        "from google.colab import files\n",
        "uploaded = files.upload()"
      ],
      "metadata": {
        "colab": {
          "base_uri": "https://localhost:8080/",
          "height": 72
        },
        "id": "XJWEshlQah6E",
        "outputId": "6da3406d-6eba-47ab-98d8-af60baee88b7"
      },
      "execution_count": null,
      "outputs": [
        {
          "output_type": "display_data",
          "data": {
            "text/plain": [
              "<IPython.core.display.HTML object>"
            ],
            "text/html": [
              "\n",
              "     <input type=\"file\" id=\"files-3eb147d1-229e-49a5-b0ab-3910643672ad\" name=\"files[]\" multiple disabled\n",
              "        style=\"border:none\" />\n",
              "     <output id=\"result-3eb147d1-229e-49a5-b0ab-3910643672ad\">\n",
              "      Upload widget is only available when the cell has been executed in the\n",
              "      current browser session. Please rerun this cell to enable.\n",
              "      </output>\n",
              "      <script>// Copyright 2017 Google LLC\n",
              "//\n",
              "// Licensed under the Apache License, Version 2.0 (the \"License\");\n",
              "// you may not use this file except in compliance with the License.\n",
              "// You may obtain a copy of the License at\n",
              "//\n",
              "//      http://www.apache.org/licenses/LICENSE-2.0\n",
              "//\n",
              "// Unless required by applicable law or agreed to in writing, software\n",
              "// distributed under the License is distributed on an \"AS IS\" BASIS,\n",
              "// WITHOUT WARRANTIES OR CONDITIONS OF ANY KIND, either express or implied.\n",
              "// See the License for the specific language governing permissions and\n",
              "// limitations under the License.\n",
              "\n",
              "/**\n",
              " * @fileoverview Helpers for google.colab Python module.\n",
              " */\n",
              "(function(scope) {\n",
              "function span(text, styleAttributes = {}) {\n",
              "  const element = document.createElement('span');\n",
              "  element.textContent = text;\n",
              "  for (const key of Object.keys(styleAttributes)) {\n",
              "    element.style[key] = styleAttributes[key];\n",
              "  }\n",
              "  return element;\n",
              "}\n",
              "\n",
              "// Max number of bytes which will be uploaded at a time.\n",
              "const MAX_PAYLOAD_SIZE = 100 * 1024;\n",
              "\n",
              "function _uploadFiles(inputId, outputId) {\n",
              "  const steps = uploadFilesStep(inputId, outputId);\n",
              "  const outputElement = document.getElementById(outputId);\n",
              "  // Cache steps on the outputElement to make it available for the next call\n",
              "  // to uploadFilesContinue from Python.\n",
              "  outputElement.steps = steps;\n",
              "\n",
              "  return _uploadFilesContinue(outputId);\n",
              "}\n",
              "\n",
              "// This is roughly an async generator (not supported in the browser yet),\n",
              "// where there are multiple asynchronous steps and the Python side is going\n",
              "// to poll for completion of each step.\n",
              "// This uses a Promise to block the python side on completion of each step,\n",
              "// then passes the result of the previous step as the input to the next step.\n",
              "function _uploadFilesContinue(outputId) {\n",
              "  const outputElement = document.getElementById(outputId);\n",
              "  const steps = outputElement.steps;\n",
              "\n",
              "  const next = steps.next(outputElement.lastPromiseValue);\n",
              "  return Promise.resolve(next.value.promise).then((value) => {\n",
              "    // Cache the last promise value to make it available to the next\n",
              "    // step of the generator.\n",
              "    outputElement.lastPromiseValue = value;\n",
              "    return next.value.response;\n",
              "  });\n",
              "}\n",
              "\n",
              "/**\n",
              " * Generator function which is called between each async step of the upload\n",
              " * process.\n",
              " * @param {string} inputId Element ID of the input file picker element.\n",
              " * @param {string} outputId Element ID of the output display.\n",
              " * @return {!Iterable<!Object>} Iterable of next steps.\n",
              " */\n",
              "function* uploadFilesStep(inputId, outputId) {\n",
              "  const inputElement = document.getElementById(inputId);\n",
              "  inputElement.disabled = false;\n",
              "\n",
              "  const outputElement = document.getElementById(outputId);\n",
              "  outputElement.innerHTML = '';\n",
              "\n",
              "  const pickedPromise = new Promise((resolve) => {\n",
              "    inputElement.addEventListener('change', (e) => {\n",
              "      resolve(e.target.files);\n",
              "    });\n",
              "  });\n",
              "\n",
              "  const cancel = document.createElement('button');\n",
              "  inputElement.parentElement.appendChild(cancel);\n",
              "  cancel.textContent = 'Cancel upload';\n",
              "  const cancelPromise = new Promise((resolve) => {\n",
              "    cancel.onclick = () => {\n",
              "      resolve(null);\n",
              "    };\n",
              "  });\n",
              "\n",
              "  // Wait for the user to pick the files.\n",
              "  const files = yield {\n",
              "    promise: Promise.race([pickedPromise, cancelPromise]),\n",
              "    response: {\n",
              "      action: 'starting',\n",
              "    }\n",
              "  };\n",
              "\n",
              "  cancel.remove();\n",
              "\n",
              "  // Disable the input element since further picks are not allowed.\n",
              "  inputElement.disabled = true;\n",
              "\n",
              "  if (!files) {\n",
              "    return {\n",
              "      response: {\n",
              "        action: 'complete',\n",
              "      }\n",
              "    };\n",
              "  }\n",
              "\n",
              "  for (const file of files) {\n",
              "    const li = document.createElement('li');\n",
              "    li.append(span(file.name, {fontWeight: 'bold'}));\n",
              "    li.append(span(\n",
              "        `(${file.type || 'n/a'}) - ${file.size} bytes, ` +\n",
              "        `last modified: ${\n",
              "            file.lastModifiedDate ? file.lastModifiedDate.toLocaleDateString() :\n",
              "                                    'n/a'} - `));\n",
              "    const percent = span('0% done');\n",
              "    li.appendChild(percent);\n",
              "\n",
              "    outputElement.appendChild(li);\n",
              "\n",
              "    const fileDataPromise = new Promise((resolve) => {\n",
              "      const reader = new FileReader();\n",
              "      reader.onload = (e) => {\n",
              "        resolve(e.target.result);\n",
              "      };\n",
              "      reader.readAsArrayBuffer(file);\n",
              "    });\n",
              "    // Wait for the data to be ready.\n",
              "    let fileData = yield {\n",
              "      promise: fileDataPromise,\n",
              "      response: {\n",
              "        action: 'continue',\n",
              "      }\n",
              "    };\n",
              "\n",
              "    // Use a chunked sending to avoid message size limits. See b/62115660.\n",
              "    let position = 0;\n",
              "    do {\n",
              "      const length = Math.min(fileData.byteLength - position, MAX_PAYLOAD_SIZE);\n",
              "      const chunk = new Uint8Array(fileData, position, length);\n",
              "      position += length;\n",
              "\n",
              "      const base64 = btoa(String.fromCharCode.apply(null, chunk));\n",
              "      yield {\n",
              "        response: {\n",
              "          action: 'append',\n",
              "          file: file.name,\n",
              "          data: base64,\n",
              "        },\n",
              "      };\n",
              "\n",
              "      let percentDone = fileData.byteLength === 0 ?\n",
              "          100 :\n",
              "          Math.round((position / fileData.byteLength) * 100);\n",
              "      percent.textContent = `${percentDone}% done`;\n",
              "\n",
              "    } while (position < fileData.byteLength);\n",
              "  }\n",
              "\n",
              "  // All done.\n",
              "  yield {\n",
              "    response: {\n",
              "      action: 'complete',\n",
              "    }\n",
              "  };\n",
              "}\n",
              "\n",
              "scope.google = scope.google || {};\n",
              "scope.google.colab = scope.google.colab || {};\n",
              "scope.google.colab._files = {\n",
              "  _uploadFiles,\n",
              "  _uploadFilesContinue,\n",
              "};\n",
              "})(self);\n",
              "</script> "
            ]
          },
          "metadata": {}
        },
        {
          "output_type": "stream",
          "name": "stdout",
          "text": [
            "Saving mermaid-history-2025-02-28-134657.json to mermaid-history-2025-02-28-134657.json\n"
          ]
        }
      ]
    },
    {
      "cell_type": "markdown",
      "source": [
        "Após esse upload, o código abaixo deve ser rodado manualmente."
      ],
      "metadata": {
        "id": "1-ivYjLBbnEL"
      }
    },
    {
      "cell_type": "code",
      "source": [
        "nome_arquivo = list(uploaded.keys())[0]\n",
        "\n",
        "with open(nome_arquivo, \"rb\") as file:\n",
        "    conteudo = file.read()\n",
        "\n",
        "hash_calculado_arquivo = calcular_hash_binario(conteudo)\n",
        "\n",
        "print(f\"Arquivo: {nome_arquivo}\")\n",
        "print(f\"Hash Calculado: {hash_calculado_arquivo}\")\n"
      ],
      "metadata": {
        "colab": {
          "base_uri": "https://localhost:8080/"
        },
        "id": "FrEiKy8Za9DF",
        "outputId": "d1df5152-aa42-4f5a-a6c9-83228d201b34"
      },
      "execution_count": null,
      "outputs": [
        {
          "output_type": "stream",
          "name": "stdout",
          "text": [
            "Arquivo: mermaid-history-2025-02-28-134657.json\n",
            "Hash Calculado: 259c4109effea6fb074f9eee976a702817ef6a90eb433a2b2a8d62265eccace1\n"
          ]
        }
      ]
    }
  ]
}